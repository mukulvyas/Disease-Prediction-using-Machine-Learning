{
 "cells": [
  {
   "cell_type": "markdown",
   "id": "a6ecc89e-cc5b-4ca5-b696-a80c2afd9380",
   "metadata": {},
   "source": [
    "### Importing Neccessary Library"
   ]
  },
  {
   "cell_type": "code",
   "execution_count": null,
   "id": "074b2b37-ab23-4991-afe8-f0eb450ba200",
   "metadata": {},
   "outputs": [],
   "source": [
    "from tkinter import *  # For creating GUI elements\n",
    "import os              # For file system operations\n",
    "import numpy as np     # For numerical computations\n",
    "import pandas as pd    # For handling and analyzing datasets\n",
    "from sklearn import tree  # For decision tree models\n",
    "from sklearn.ensemble import RandomForestClassifier  # For random forest classifier\n",
    "from sklearn.naive_bayes import GaussianNB  # For Naive Bayes classifier\n",
    "from sklearn.metrics import accuracy_score  # For evaluating model performance\n",
    "import random         # For generating random values\n"
   ]
  },
  {
   "cell_type": "markdown",
   "id": "99888c27-2ae6-4a60-bb8a-972326260a21",
   "metadata": {},
   "source": [
    "### Function to create and display the user registration window\n"
   ]
  },
  {
   "cell_type": "code",
   "execution_count": null,
   "id": "5ee4fe13-36f5-4d73-8df6-95bdd5a0e467",
   "metadata": {},
   "outputs": [],
   "source": [
    "def open_registration_window():\n",
    "    # Create a new pop-up window for the registration process\n",
    "    global reg_window\n",
    "    reg_window = Toplevel(main_window)\n",
    "    reg_window.title(\"User Registration\")  # Set the window title\n",
    "    reg_window.geometry(\"300x250\")  # Define the dimensions of the window\n",
    "\n",
    "    # Declare global variables to store user input\n",
    "    global user_name\n",
    "    global user_pass\n",
    "    global user_name_entry\n",
    "    global user_pass_entry\n",
    "\n",
    "    # Initialize variables to capture user input\n",
    "    user_name = StringVar()\n",
    "    user_pass = StringVar()\n",
    "\n",
    "    # Add a header label for instructions\n",
    "    Label(reg_window, text=\"Fill in your details to register\", bg=\"blue\").pack()\n",
    "    Label(reg_window, text=\"\").pack()  # Add spacing for layout\n",
    "\n",
    "    # Add a label and input field for the username\n",
    "    name_label = Label(reg_window, text=\"Username:\")\n",
    "    name_label.pack()\n",
    "    user_name_entry = Entry(reg_window, textvariable=user_name)\n",
    "    user_name_entry.pack()\n",
    "\n",
    "    # Add a label and input field for the password with masked input\n",
    "    pass_label = Label(reg_window, text=\"Password:\")\n",
    "    pass_label.pack()\n",
    "    user_pass_entry = Entry(reg_window, textvariable=user_pass, show='*')\n",
    "    user_pass_entry.pack()\n",
    "\n",
    "    # Add spacing for better structure\n",
    "    Label(reg_window, text=\"\").pack()\n",
    "\n",
    "    # Add a button to trigger the user registration function\n",
    "    Button(reg_window, text=\"Submit\", width=10, height=1, bg=\"blue\", command=save_user_data).pack()\n"
   ]
  },
  {
   "cell_type": "markdown",
   "id": "6140454b-dbb4-4ac4-be79-74439fb4a3cb",
   "metadata": {},
   "source": [
    "### Function to create and display the login window"
   ]
  },
  {
   "cell_type": "code",
   "execution_count": null,
   "id": "1ecad785-3da3-402a-8520-a068b8512ab1",
   "metadata": {},
   "outputs": [],
   "source": [
    "def open_login_window():\n",
    "    # Create a new pop-up window for the login process\n",
    "    global login_window\n",
    "    login_window = Toplevel(main_window)\n",
    "    login_window.title(\"User Login\")  # Set the window title\n",
    "    login_window.geometry(\"300x250\")  # Define the dimensions of the window\n",
    "\n",
    "    # Add a header label with instructions\n",
    "    Label(login_window, text=\"Enter your details to log in\").pack()\n",
    "    Label(login_window, text=\"\").pack()  # Add spacing for layout\n",
    "\n",
    "    # Declare global variables to capture user input\n",
    "    global user_login_name\n",
    "    global user_login_pass\n",
    "    user_login_name = StringVar()\n",
    "    user_login_pass = StringVar()\n",
    "\n",
    "    # Declare global variables for input fields\n",
    "    global name_input_field\n",
    "    global pass_input_field\n",
    "\n",
    "    # Add a label and input field for the username\n",
    "    Label(login_window, text=\"Username:\").pack()\n",
    "    name_input_field = Entry(login_window, textvariable=user_login_name)\n",
    "    name_input_field.pack()\n",
    "\n",
    "    # Add spacing for better structure\n",
    "    Label(login_window, text=\"\").pack()\n",
    "\n",
    "    # Add a label and input field for the password with masked input\n",
    "    Label(login_window, text=\"Password:\").pack()\n",
    "    pass_input_field = Entry(login_window, textvariable=user_login_pass, show='*')\n",
    "    pass_input_field.pack()\n",
    "\n",
    "    # Add spacing for layout and structure\n",
    "    Label(login_window, text=\"\").pack()\n",
    "\n",
    "    # Add a button to trigger the login verification function\n",
    "    Button(login_window, text=\"Login\", width=10, height=1, command=verify_login).pack()\n"
   ]
  },
  {
   "cell_type": "markdown",
   "id": "d865523e-3e5f-47b4-aa23-89339f42f739",
   "metadata": {},
   "source": [
    "###  Function to handle the registration process when the \"Register\" button is clicked\n"
   ]
  },
  {
   "cell_type": "code",
   "execution_count": null,
   "id": "a4f4355e-92c8-443d-8407-6190a11e8a0c",
   "metadata": {},
   "outputs": [],
   "source": [
    "def save_user_details():\n",
    "    # Retrieve the data entered by the user\n",
    "    entered_username = user_name.get()\n",
    "    entered_password = user_pass.get()\n",
    "\n",
    "    # Create a file using the username to store the user's details\n",
    "    with open(entered_username, \"w\") as file:\n",
    "        file.write(entered_username + \"\\n\")  # Write the username\n",
    "        file.write(entered_password)  # Write the password\n",
    "\n",
    "    # Clear the input fields after saving details\n",
    "    name_input_box.delete(0, END)\n",
    "    pass_input_box.delete(0, END)\n",
    "\n",
    "    # Display a success message after registration\n",
    "    Label(register_window, text=\"Registration Successful\", fg=\"green\", font=(\"Calibri\", 11)).pack()\n"
   ]
  },
  {
   "cell_type": "markdown",
   "id": "b43123e3-cf61-4fb4-95cc-02162a2bc6b6",
   "metadata": {},
   "source": [
    "### Function to handle the login verification process when the \"Login\" button is clicked\n"
   ]
  },
  {
   "cell_type": "code",
   "execution_count": null,
   "id": "4cf251db-3b8a-4cad-ab81-8d7af191abe8",
   "metadata": {},
   "outputs": [],
   "source": [
    "def verify_login_details():\n",
    "    # Retrieve the username and password entered by the user\n",
    "    entered_username = user_name_verify.get()\n",
    "    entered_password = user_pass_verify.get()\n",
    "\n",
    "    # Clear the input fields after retrieving data\n",
    "    username_input_box.delete(0, END)\n",
    "    password_input_box.delete(0, END)\n",
    "\n",
    "    # Check if the username exists in the current directory\n",
    "    existing_files = os.listdir()\n",
    "    if entered_username in existing_files:\n",
    "        # Open the file and read the stored credentials\n",
    "        with open(entered_username, \"r\") as file:\n",
    "            stored_credentials = file.read().splitlines()\n",
    "            # Check if the entered password matches the stored password\n",
    "            if entered_password in stored_credentials:\n",
    "                display_login_success()\n",
    "            else:\n",
    "                display_password_error()\n",
    "    else:\n",
    "        display_user_not_found()\n"
   ]
  },
  {
   "cell_type": "markdown",
   "id": "4572a700-ac14-48bd-9c3a-3fc6c7d55d06",
   "metadata": {},
   "source": [
    "### Function to display a popup for successful login\n"
   ]
  },
  {
   "cell_type": "code",
   "execution_count": null,
   "id": "45a336e9-0cd9-46ed-a3af-64c157d79633",
   "metadata": {},
   "outputs": [],
   "source": [
    "def show_success_popup():\n",
    "    # Create a new popup window for successful login\n",
    "    global success_popup_window\n",
    "    success_popup_window = Toplevel(login_window)\n",
    "    success_popup_window.title(\"Login Successful\")\n",
    "    success_popup_window.geometry(\"200x120\")\n",
    "    \n",
    "    # Display a success message\n",
    "    Label(success_popup_window, text=\"Login Successful!\", font=(\"Arial\", 12), fg=\"green\").pack(pady=10)\n",
    "    \n",
    "    # Button to proceed to the main interface\n",
    "    Button(success_popup_window, text=\"Proceed\", command=open_prediction_interface, width=10).pack(pady=5)\n",
    "    \n",
    "    # Display a label and button for closing the popup\n",
    "    Label(success_popup_window, text=\"Close the popup\").pack()\n",
    "    Button(success_popup_window, text=\"Exit\", command=close_success_popup, width=10).pack(pady=5)\n"
   ]
  },
  {
   "cell_type": "markdown",
   "id": "f93ebe0b-198d-4420-be47-ec0bbb8467a1",
   "metadata": {},
   "source": [
    "### Function to display a popup for invalid password error\n"
   ]
  },
  {
   "cell_type": "code",
   "execution_count": null,
   "id": "b5af7722-e52c-4df7-a160-74f38277985f",
   "metadata": {},
   "outputs": [],
   "source": [
    "def show_invalid_password_popup():\n",
    "    # Create a new popup window for invalid password\n",
    "    global invalid_password_popup\n",
    "    invalid_password_popup = Toplevel(login_window)\n",
    "    invalid_password_popup.title(\"Error\")\n",
    "    invalid_password_popup.geometry(\"200x120\")\n",
    "    \n",
    "    # Display an error message for invalid password\n",
    "    Label(invalid_password_popup, text=\"Invalid Password!\", font=(\"Arial\", 12), fg=\"red\").pack(pady=10)\n",
    "    \n",
    "    # Button to close the popup\n",
    "    Button(invalid_password_popup, text=\"OK\", command=close_invalid_password_popup, width=10).pack(pady=5)\n"
   ]
  },
  {
   "cell_type": "markdown",
   "id": "dd891b3b-3192-4592-a378-603b10cd84bd",
   "metadata": {},
   "source": [
    "### Function to display a popup for user not found error"
   ]
  },
  {
   "cell_type": "code",
   "execution_count": null,
   "id": "7f05f914-59f8-44b9-baa7-4ebb35f28baa",
   "metadata": {},
   "outputs": [],
   "source": [
    "def show_user_not_found_popup():\n",
    "    # Create a new popup window for user not found error\n",
    "    global user_not_found_popup\n",
    "    user_not_found_popup = Toplevel(login_window)\n",
    "    user_not_found_popup.title(\"Error\")\n",
    "    user_not_found_popup.geometry(\"200x120\")\n",
    "    \n",
    "    # Display an error message for user not found\n",
    "    Label(user_not_found_popup, text=\"User Not Found\", font=(\"Arial\", 12), fg=\"red\").pack(pady=10)\n",
    "    \n",
    "    # Button to close the popup\n",
    "    Button(user_not_found_popup, text=\"OK\", command=close_user_not_found_popup, width=10).pack(pady=5)\n"
   ]
  },
  {
   "cell_type": "code",
   "execution_count": null,
   "id": "0632010a-c877-48d9-a040-50004bc09c4f",
   "metadata": {},
   "outputs": [],
   "source": []
  },
  {
   "cell_type": "code",
   "execution_count": null,
   "id": "751dae73-f0d4-4416-89a4-5967630d6641",
   "metadata": {},
   "outputs": [],
   "source": []
  },
  {
   "cell_type": "code",
   "execution_count": null,
   "id": "a3223827-cf56-4828-82d9-b22e10f6d054",
   "metadata": {},
   "outputs": [],
   "source": []
  },
  {
   "cell_type": "code",
   "execution_count": null,
   "id": "a01786f8-0e7a-47bc-9843-3bd6f82cda27",
   "metadata": {},
   "outputs": [],
   "source": []
  },
  {
   "cell_type": "code",
   "execution_count": null,
   "id": "550332a9-bef4-4c3b-a488-2a1dbaac0dd4",
   "metadata": {},
   "outputs": [],
   "source": []
  },
  {
   "cell_type": "code",
   "execution_count": null,
   "id": "2b4a7f90-bf41-4fe5-8496-9e6b7ba2d69e",
   "metadata": {},
   "outputs": [],
   "source": []
  }
 ],
 "metadata": {
  "kernelspec": {
   "display_name": "Python 3 (ipykernel)",
   "language": "python",
   "name": "python3"
  },
  "language_info": {
   "codemirror_mode": {
    "name": "ipython",
    "version": 3
   },
   "file_extension": ".py",
   "mimetype": "text/x-python",
   "name": "python",
   "nbconvert_exporter": "python",
   "pygments_lexer": "ipython3",
   "version": "3.10.12"
  }
 },
 "nbformat": 4,
 "nbformat_minor": 5
}
