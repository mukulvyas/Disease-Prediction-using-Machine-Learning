{
 "cells": [
  {
   "cell_type": "markdown",
   "id": "a6ecc89e-cc5b-4ca5-b696-a80c2afd9380",
   "metadata": {},
   "source": [
    "### Importing Neccessary Library"
   ]
  },
  {
   "cell_type": "code",
   "execution_count": 2,
   "id": "074b2b37-ab23-4991-afe8-f0eb450ba200",
   "metadata": {},
   "outputs": [],
   "source": [
    "from tkinter import *  # For creating GUI elements\n",
    "import os              # For file system operations\n",
    "import numpy as np     # For numerical computations\n",
    "import pandas as pd    # For handling and analyzing datasets\n",
    "from sklearn import tree  # For decision tree models\n",
    "from sklearn.ensemble import RandomForestClassifier  # For random forest classifier\n",
    "from sklearn.naive_bayes import GaussianNB  # For Naive Bayes classifier\n",
    "from sklearn.metrics import accuracy_score  # For evaluating model performance\n",
    "import random         # For generating random values\n"
   ]
  },
  {
   "cell_type": "markdown",
   "id": "99888c27-2ae6-4a60-bb8a-972326260a21",
   "metadata": {},
   "source": [
    "### Function to create and display the user registration window\n"
   ]
  },
  {
   "cell_type": "code",
   "execution_count": 3,
   "id": "5ee4fe13-36f5-4d73-8df6-95bdd5a0e467",
   "metadata": {},
   "outputs": [],
   "source": [
    "def open_registration_window():\n",
    "    # Create a new pop-up window for the registration process\n",
    "    global reg_window\n",
    "    reg_window = Toplevel(main_window)\n",
    "    reg_window.title(\"User Registration\")  # Set the window title\n",
    "    reg_window.geometry(\"300x250\")  # Define the dimensions of the window\n",
    "\n",
    "    # Declare global variables to store user input\n",
    "    global user_name\n",
    "    global user_pass\n",
    "    global user_name_entry\n",
    "    global user_pass_entry\n",
    "\n",
    "    # Initialize variables to capture user input\n",
    "    user_name = StringVar()\n",
    "    user_pass = StringVar()\n",
    "\n",
    "    # Add a header label for instructions\n",
    "    Label(reg_window, text=\"Fill in your details to register\", bg=\"blue\").pack()\n",
    "    Label(reg_window, text=\"\").pack()  # Add spacing for layout\n",
    "\n",
    "    # Add a label and input field for the username\n",
    "    name_label = Label(reg_window, text=\"Username:\")\n",
    "    name_label.pack()\n",
    "    user_name_entry = Entry(reg_window, textvariable=user_name)\n",
    "    user_name_entry.pack()\n",
    "\n",
    "    # Add a label and input field for the password with masked input\n",
    "    pass_label = Label(reg_window, text=\"Password:\")\n",
    "    pass_label.pack()\n",
    "    user_pass_entry = Entry(reg_window, textvariable=user_pass, show='*')\n",
    "    user_pass_entry.pack()\n",
    "\n",
    "    # Add spacing for better structure\n",
    "    Label(reg_window, text=\"\").pack()\n",
    "\n",
    "    # Add a button to trigger the user registration function\n",
    "    Button(reg_window, text=\"Submit\", width=10, height=1, bg=\"blue\", command=save_user_data).pack()\n"
   ]
  },
  {
   "cell_type": "markdown",
   "id": "6140454b-dbb4-4ac4-be79-74439fb4a3cb",
   "metadata": {},
   "source": [
    "### Function to create and display the login window"
   ]
  },
  {
   "cell_type": "code",
   "execution_count": 4,
   "id": "1ecad785-3da3-402a-8520-a068b8512ab1",
   "metadata": {},
   "outputs": [],
   "source": [
    "def open_login_window():\n",
    "    # Create a new pop-up window for the login process\n",
    "    global login_window\n",
    "    login_window = Toplevel(main_window)\n",
    "    login_window.title(\"User Login\")  # Set the window title\n",
    "    login_window.geometry(\"300x250\")  # Define the dimensions of the window\n",
    "\n",
    "    # Add a header label with instructions\n",
    "    Label(login_window, text=\"Enter your details to log in\").pack()\n",
    "    Label(login_window, text=\"\").pack()  # Add spacing for layout\n",
    "\n",
    "    # Declare global variables to capture user input\n",
    "    global user_login_name\n",
    "    global user_login_pass\n",
    "    user_login_name = StringVar()\n",
    "    user_login_pass = StringVar()\n",
    "\n",
    "    # Declare global variables for input fields\n",
    "    global name_input_field\n",
    "    global pass_input_field\n",
    "\n",
    "    # Add a label and input field for the username\n",
    "    Label(login_window, text=\"Username:\").pack()\n",
    "    name_input_field = Entry(login_window, textvariable=user_login_name)\n",
    "    name_input_field.pack()\n",
    "\n",
    "    # Add spacing for better structure\n",
    "    Label(login_window, text=\"\").pack()\n",
    "\n",
    "    # Add a label and input field for the password with masked input\n",
    "    Label(login_window, text=\"Password:\").pack()\n",
    "    pass_input_field = Entry(login_window, textvariable=user_login_pass, show='*')\n",
    "    pass_input_field.pack()\n",
    "\n",
    "    # Add spacing for layout and structure\n",
    "    Label(login_window, text=\"\").pack()\n",
    "\n",
    "    # Add a button to trigger the login verification function\n",
    "    Button(login_window, text=\"Login\", width=10, height=1, command=verify_login).pack()\n"
   ]
  },
  {
   "cell_type": "markdown",
   "id": "d865523e-3e5f-47b4-aa23-89339f42f739",
   "metadata": {},
   "source": [
    "###  Function to handle the registration process when the \"Register\" button is clicked\n"
   ]
  },
  {
   "cell_type": "code",
   "execution_count": 5,
   "id": "a4f4355e-92c8-443d-8407-6190a11e8a0c",
   "metadata": {},
   "outputs": [],
   "source": [
    "def save_user_details():\n",
    "    # Retrieve the data entered by the user\n",
    "    entered_username = user_name.get()\n",
    "    entered_password = user_pass.get()\n",
    "\n",
    "    # Create a file using the username to store the user's details\n",
    "    with open(entered_username, \"w\") as file:\n",
    "        file.write(entered_username + \"\\n\")  # Write the username\n",
    "        file.write(entered_password)  # Write the password\n",
    "\n",
    "    # Clear the input fields after saving details\n",
    "    name_input_box.delete(0, END)\n",
    "    pass_input_box.delete(0, END)\n",
    "\n",
    "    # Display a success message after registration\n",
    "    Label(register_window, text=\"Registration Successful\", fg=\"green\", font=(\"Calibri\", 11)).pack()\n"
   ]
  },
  {
   "cell_type": "markdown",
   "id": "b43123e3-cf61-4fb4-95cc-02162a2bc6b6",
   "metadata": {},
   "source": [
    "### Function to handle the login verification process when the \"Login\" button is clicked\n"
   ]
  },
  {
   "cell_type": "code",
   "execution_count": 6,
   "id": "4cf251db-3b8a-4cad-ab81-8d7af191abe8",
   "metadata": {},
   "outputs": [],
   "source": [
    "def verify_login_details():\n",
    "    # Retrieve the username and password entered by the user\n",
    "    entered_username = user_name_verify.get()\n",
    "    entered_password = user_pass_verify.get()\n",
    "\n",
    "    # Clear the input fields after retrieving data\n",
    "    username_input_box.delete(0, END)\n",
    "    password_input_box.delete(0, END)\n",
    "\n",
    "    # Check if the username exists in the current directory\n",
    "    existing_files = os.listdir()\n",
    "    if entered_username in existing_files:\n",
    "        # Open the file and read the stored credentials\n",
    "        with open(entered_username, \"r\") as file:\n",
    "            stored_credentials = file.read().splitlines()\n",
    "            # Check if the entered password matches the stored password\n",
    "            if entered_password in stored_credentials:\n",
    "                display_login_success()\n",
    "            else:\n",
    "                display_password_error()\n",
    "    else:\n",
    "        display_user_not_found()\n"
   ]
  },
  {
   "cell_type": "markdown",
   "id": "4572a700-ac14-48bd-9c3a-3fc6c7d55d06",
   "metadata": {},
   "source": [
    "### Function to display a popup for successful login\n"
   ]
  },
  {
   "cell_type": "code",
   "execution_count": 7,
   "id": "45a336e9-0cd9-46ed-a3af-64c157d79633",
   "metadata": {},
   "outputs": [],
   "source": [
    "def show_success_popup():\n",
    "    # Create a new popup window for successful login\n",
    "    global success_popup_window\n",
    "    success_popup_window = Toplevel(login_window)\n",
    "    success_popup_window.title(\"Login Successful\")\n",
    "    success_popup_window.geometry(\"200x120\")\n",
    "    \n",
    "    # Display a success message\n",
    "    Label(success_popup_window, text=\"Login Successful!\", font=(\"Arial\", 12), fg=\"green\").pack(pady=10)\n",
    "    \n",
    "    # Button to proceed to the main interface\n",
    "    Button(success_popup_window, text=\"Proceed\", command=open_prediction_interface, width=10).pack(pady=5)\n",
    "    \n",
    "    # Display a label and button for closing the popup\n",
    "    Label(success_popup_window, text=\"Close the popup\").pack()\n",
    "    Button(success_popup_window, text=\"Exit\", command=close_success_popup, width=10).pack(pady=5)\n"
   ]
  },
  {
   "cell_type": "markdown",
   "id": "f93ebe0b-198d-4420-be47-ec0bbb8467a1",
   "metadata": {},
   "source": [
    "### Function to display a popup for invalid password error\n"
   ]
  },
  {
   "cell_type": "code",
   "execution_count": 8,
   "id": "b5af7722-e52c-4df7-a160-74f38277985f",
   "metadata": {},
   "outputs": [],
   "source": [
    "def show_invalid_password_popup():\n",
    "    # Create a new popup window for invalid password\n",
    "    global invalid_password_popup\n",
    "    invalid_password_popup = Toplevel(login_window)\n",
    "    invalid_password_popup.title(\"Error\")\n",
    "    invalid_password_popup.geometry(\"200x120\")\n",
    "    \n",
    "    # Display an error message for invalid password\n",
    "    Label(invalid_password_popup, text=\"Invalid Password!\", font=(\"Arial\", 12), fg=\"red\").pack(pady=10)\n",
    "    \n",
    "    # Button to close the popup\n",
    "    Button(invalid_password_popup, text=\"OK\", command=close_invalid_password_popup, width=10).pack(pady=5)\n"
   ]
  },
  {
   "cell_type": "markdown",
   "id": "dd891b3b-3192-4592-a378-603b10cd84bd",
   "metadata": {},
   "source": [
    "### Function to display a popup for user not found error"
   ]
  },
  {
   "cell_type": "code",
   "execution_count": 9,
   "id": "7f05f914-59f8-44b9-baa7-4ebb35f28baa",
   "metadata": {},
   "outputs": [],
   "source": [
    "def show_user_not_found_popup():\n",
    "    # Create a new popup window for user not found error\n",
    "    global user_not_found_popup\n",
    "    user_not_found_popup = Toplevel(login_window)\n",
    "    user_not_found_popup.title(\"Error\")\n",
    "    user_not_found_popup.geometry(\"200x120\")\n",
    "    \n",
    "    # Display an error message for user not found\n",
    "    Label(user_not_found_popup, text=\"User Not Found\", font=(\"Arial\", 12), fg=\"red\").pack(pady=10)\n",
    "    \n",
    "    # Button to close the popup\n",
    "    Button(user_not_found_popup, text=\"OK\", command=close_user_not_found_popup, width=10).pack(pady=5)\n"
   ]
  },
  {
   "cell_type": "markdown",
   "id": "70d6cf1e-ab69-449d-be5c-37566a4e7900",
   "metadata": {},
   "source": [
    "### Deleting popups\n"
   ]
  },
  {
   "cell_type": "code",
   "execution_count": 10,
   "id": "751dae73-f0d4-4416-89a4-5967630d6641",
   "metadata": {},
   "outputs": [],
   "source": [
    "# Function to close the login success popup\n",
    "def close_login_success_popup():\n",
    "    login_success_popup.destroy()\n",
    "\n",
    "# Function to close the invalid password popup\n",
    "def close_invalid_password_popup():\n",
    "    invalid_password_popup.destroy()\n",
    "\n",
    "# Function to close the user not found popup\n",
    "def close_user_not_found_popup():\n",
    "    user_not_found_popup.destroy()\n"
   ]
  },
  {
   "cell_type": "markdown",
   "id": "f8b1ecbd-362f-43ac-a32f-da263ffcf9fa",
   "metadata": {},
   "source": [
    "### Preprocessing function for the training and testing data\n"
   ]
  },
  {
   "cell_type": "code",
   "execution_count": 11,
   "id": "a01786f8-0e7a-47bc-9843-3bd6f82cda27",
   "metadata": {},
   "outputs": [],
   "source": [
    "# Preprocessing function for the training and testing data\n",
    "def preprocess_data():\n",
    "    # Read the training dataset (CSV) into a pandas DataFrame\n",
    "    df = pd.read_csv(\"./Training.csv\")\n",
    "    \n",
    "    # Extract the column names (except 'prognosis') for symptoms\n",
    "    l1 = [col for col in df.columns if col != 'prognosis']\n",
    "    \n",
    "    # Extract unique disease labels from the 'prognosis' column\n",
    "    disease = df['prognosis'].unique()\n",
    "\n",
    "    # Replace the disease names with corresponding numeric indices in the training data\n",
    "    df = df.replace({'prognosis': {d: idx for idx, d in enumerate(disease)}})\n",
    "\n",
    "    # Prepare the feature matrix (X) using the selected symptoms (l1) and the target vector (y) with encoded disease labels\n",
    "    X = df[l1]\n",
    "    y = df[\"prognosis\"].values  # Target vector with encoded disease labels\n",
    "\n",
    "    # Read the testing dataset (CSV) into a pandas DataFrame\n",
    "    tr = pd.read_csv(\"./Testing.csv\")\n",
    "    \n",
    "    # Replace the disease names with corresponding numeric indices in the testing data\n",
    "    tr = tr.replace({'prognosis': {d: idx for idx, d in enumerate(disease)}})\n",
    "\n",
    "    # Prepare the feature matrix (X_test) and target vector (y_test) for testing\n",
    "    X_test = tr[l1]\n",
    "    y_test = tr[\"prognosis\"].values\n",
    "\n",
    "    # Print a small sample of the dataset to verify preprocessing\n",
    "    print(\"Sample training data:\\n\", df.head())  # Show first 5 rows of training data\n",
    "    print(\"\\nSample testing data:\\n\", tr.head())  # Show first 5 rows of testing data\n",
    "\n",
    "    # Return preprocessed data for further training and testing\n",
    "    return X, y, X_test, y_test\n"
   ]
  },
  {
   "cell_type": "markdown",
   "id": "3cf0d5c1-bd83-4898-954e-55e3dc158d86",
   "metadata": {},
   "source": [
    "### Function for training and predicting using Decision Tree Classifier\n"
   ]
  },
  {
   "cell_type": "code",
   "execution_count": 12,
   "id": "21af2c44-54c6-4b03-81fa-68a7878e324e",
   "metadata": {},
   "outputs": [],
   "source": [
    "def decision_tree_classifier(X, y, X_test, y_test, symptoms):\n",
    "    clf = tree.DecisionTreeClassifier()\n",
    "    clf.fit(X, y)\n",
    "\n",
    "    y_pred = clf.predict(X_test)\n",
    "    accuracy = accuracy_score(y_test, y_pred) * 100\n",
    "\n",
    "    l2 = [1 if sym in symptoms else 0 for sym in l1]\n",
    "    prediction = clf.predict([l2])\n",
    "\n",
    "    result = disease[prediction[0]] if prediction[0] >= 0 else \"Not Found\"\n",
    "    return result, accuracy\n"
   ]
  },
  {
   "cell_type": "markdown",
   "id": "2d6e1dd0-e919-4c01-bc69-0d46748af515",
   "metadata": {},
   "source": [
    "### Function for training and predicting using Random Forest Classifier"
   ]
  },
  {
   "cell_type": "code",
   "execution_count": 13,
   "id": "9a365666-5bac-42fe-94ba-ab1662f9144f",
   "metadata": {},
   "outputs": [],
   "source": [
    "def random_forest_classifier(X, y, X_test, y_test, symptoms):\n",
    "    clf = RandomForestClassifier()\n",
    "    clf.fit(X, y)\n",
    "\n",
    "    y_pred = clf.predict(X_test)\n",
    "    accuracy = accuracy_score(y_test, y_pred) * 100\n",
    "\n",
    "    l2 = [1 if sym in symptoms else 0 for sym in l1]\n",
    "    prediction = clf.predict([l2])\n",
    "\n",
    "    result = disease[prediction[0]] if prediction[0] >= 0 else \"Not Found\"\n",
    "    return result, accuracy\n"
   ]
  },
  {
   "cell_type": "markdown",
   "id": "101f6856-bc8d-4689-b7ea-d5c8cb666db6",
   "metadata": {},
   "source": [
    "### Function for training and predicting using Naive Bayes\n"
   ]
  },
  {
   "cell_type": "code",
   "execution_count": 14,
   "id": "2b18138c-df5c-4f12-9f9a-cf290b4a097d",
   "metadata": {},
   "outputs": [],
   "source": [
    "def naive_bayes_classifier(X, y, X_test, y_test, symptoms):\n",
    "    clf = GaussianNB()\n",
    "    clf.fit(X, y)\n",
    "\n",
    "    y_pred = clf.predict(X_test)\n",
    "    accuracy = accuracy_score(y_test, y_pred) * 100\n",
    "\n",
    "    l2 = [1 if sym in symptoms else 0 for sym in l1]\n",
    "    prediction = clf.predict([l2])\n",
    "\n",
    "    result = disease[prediction[0]] if prediction[0] >= 0 else \"Not Found\"\n",
    "    return result, accuracy\n"
   ]
  },
  {
   "cell_type": "markdown",
   "id": "4ecc486f-786e-42d5-90b4-a57876953d15",
   "metadata": {},
   "source": [
    "### Function for setting up the GUI"
   ]
  },
  {
   "cell_type": "code",
   "execution_count": 15,
   "id": "15f3dc58-8624-4921-ac51-fdaf8b6a4fbb",
   "metadata": {},
   "outputs": [],
   "source": [
    "def prediction_interface():\n",
    "    X, y, X_test, y_test = preprocess_data()\n",
    "\n",
    "    # Initialize root window\n",
    "    root = Toplevel(main_screen)\n",
    "    background_image = ImageTk.PhotoImage(Image.open(\"tab.jpg\"), master=root)\n",
    "\n",
    "    background_label = Label(root, image=background_image)\n",
    "    background_label.place(x=0, y=0, anchor=NW, relwidth=1, relheight=1)\n",
    "\n",
    "    # Entry variables\n",
    "    symptom_vars = [StringVar() for _ in range(5)]\n",
    "    for var in symptom_vars:\n",
    "        var.set(None)\n",
    "\n",
    "    # Labels\n",
    "    Label(root, text=\"Machine Learning based Disease Predictor\", font=(\"Elephant\", 15), fg=\"blue\").grid(row=1, column=0, columnspan=2, padx=500)\n",
    "    Label(root, text=\"Name of the Patient\", fg=\"yellow\", bg=\"black\").grid(row=6, column=1, pady=15, sticky=W)\n",
    "    symptom_labels = [\"Symptom 1\", \"Symptom 2\", \"Symptom 3\", \"Symptom 4\", \"Symptom 5\"]\n",
    "    for i, label in enumerate(symptom_labels, start=7):\n",
    "        Label(root, text=label, fg=\"yellow\", bg=\"black\").grid(row=i, column=1, pady=10, sticky=W)\n",
    "\n",
    "    # Entries for symptoms\n",
    "    options = ['None'] + l1\n",
    "    for i, var in enumerate(symptom_vars):\n",
    "        OptionMenu(root, var, *options).grid(row=i + 7, column=1)\n",
    "\n",
    "    # Result Textboxes\n",
    "    result_texts = [Text(root, height=1, width=30, bg=\"orange\", fg=\"black\") for _ in range(3)]\n",
    "    for i, t in enumerate(result_texts):\n",
    "        t.grid(row=15 + i * 2, column=1, padx=10)\n",
    "\n",
    "    # Functions to be executed on button click\n",
    "    def on_button_click(model_func, result_box_idx):\n",
    "        symptoms = [symptom_vars[i].get() for i in range(5)]\n",
    "        result, accuracy = model_func(X, y, X_test, y_test, symptoms)\n",
    "        result_texts[result_box_idx].delete('1.0', END)\n",
    "        result_texts[result_box_idx].insert(END, f\"{result} (Accuracy: {accuracy:.2f}%)\")\n",
    "\n",
    "    # Model Buttons\n",
    "    Button(root, text=\"Decision Tree\", fg=\"black\", bg=\"white\", width=20, command=lambda: on_button_click(decision_tree_classifier, 0)).grid(row=15, column=2)\n",
    "    Button(root, text=\"Random Forest\", fg=\"black\", bg=\"white\", width=20, command=lambda: on_button_click(random_forest_classifier, 1)).grid(row=17, column=2)\n",
    "    Button(root, text=\"Naive Bayes\", fg=\"black\", bg=\"white\", width=20, command=lambda: on_button_click(naive_bayes_classifier, 2)).grid(row=19, column=2)\n",
    "\n",
    "    root.mainloop()\n"
   ]
  },
  {
   "cell_type": "markdown",
   "id": "5beaf4e6-dd6d-4544-9c5f-ba2d73ce2047",
   "metadata": {},
   "source": [
    "### Main screen setup\n"
   ]
  },
  {
   "cell_type": "code",
   "execution_count": 16,
   "id": "550332a9-bef4-4c3b-a488-2a1dbaac0dd4",
   "metadata": {},
   "outputs": [],
   "source": [
    "def main_interface():\n",
    "    global main_screen\n",
    "    main_screen = Tk()\n",
    "    main_screen.title(\"Disease Prediction\")\n",
    "    main_screen.geometry(\"400x400\")\n",
    "    Button(main_screen, text=\"Start Prediction\", width=20, height=2, command=prediction_interface).pack()\n",
    "    main_screen.mainloop()\n"
   ]
  },
  {
   "cell_type": "code",
   "execution_count": null,
   "id": "2b4a7f90-bf41-4fe5-8496-9e6b7ba2d69e",
   "metadata": {},
   "outputs": [],
   "source": [
    "if __name__ == \"__main__\":\n",
    "    main_interface()"
   ]
  },
  {
   "cell_type": "code",
   "execution_count": null,
   "id": "ea3a8ac1-5180-43e1-9b69-3968c49f97f3",
   "metadata": {},
   "outputs": [],
   "source": []
  }
 ],
 "metadata": {
  "kernelspec": {
   "display_name": "Python 3 (ipykernel)",
   "language": "python",
   "name": "python3"
  },
  "language_info": {
   "codemirror_mode": {
    "name": "ipython",
    "version": 3
   },
   "file_extension": ".py",
   "mimetype": "text/x-python",
   "name": "python",
   "nbconvert_exporter": "python",
   "pygments_lexer": "ipython3",
   "version": "3.10.12"
  }
 },
 "nbformat": 4,
 "nbformat_minor": 5
}
